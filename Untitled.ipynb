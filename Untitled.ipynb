{
 "cells": [
  {
   "cell_type": "code",
   "execution_count": 3,
   "id": "469d785c-80c9-46a4-abc4-d7617cc41797",
   "metadata": {},
   "outputs": [
    {
     "name": "stderr",
     "output_type": "stream",
     "text": [
      "Downloading...\n",
      "From: https://drive.usercontent.google.com/open?id=1H2pH7Kh9B1lXj2LFMtf4u0XPD8IMFtI0\n",
      "To: /home/mkzia/github/iad_seminar_2024/test.pkl\n",
      "1.64kB [00:00, 3.38MB/s]\n"
     ]
    },
    {
     "data": {
      "text/plain": [
       "'test.pkl'"
      ]
     },
     "execution_count": 3,
     "metadata": {},
     "output_type": "execute_result"
    }
   ],
   "source": [
    "import gdown\n",
    "url = 'https://drive.google.com/file/d/1H2pH7Kh9B1lXj2LFMtf4u0XPD8IMFtI0/view?usp=sharing'\n",
    "output = 'test.pkl'\n",
    "gdown.download(url, output, quiet=False)"
   ]
  }
 ],
 "metadata": {
  "kernelspec": {
   "display_name": "Python 3 (ipykernel)",
   "language": "python",
   "name": "python3"
  },
  "language_info": {
   "codemirror_mode": {
    "name": "ipython",
    "version": 3
   },
   "file_extension": ".py",
   "mimetype": "text/x-python",
   "name": "python",
   "nbconvert_exporter": "python",
   "pygments_lexer": "ipython3",
   "version": "3.12.2"
  }
 },
 "nbformat": 4,
 "nbformat_minor": 5
}
