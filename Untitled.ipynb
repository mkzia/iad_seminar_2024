{
 "cells": [
  {
   "cell_type": "code",
   "execution_count": 5,
   "id": "14154077-a9c8-42bd-b964-b40f9db09b88",
   "metadata": {},
   "outputs": [],
   "source": [
    "from sklearn.compose import ColumnTransformer\n",
    "from sklearn.feature_extraction.text import CountVectorizer\n",
    "from sklearn.preprocessing import MinMaxScaler\n",
    "import pandas as pd   \n",
    "X = pd.DataFrame({\n",
    "    \"documents\": [\"First item\", \"second one here\", \"Is this the last?\"],\n",
    "    \"width\": [3, 4, 5],\n",
    "})  \n",
    "# \"documents\" is a string which configures ColumnTransformer to\n",
    "# pass the documents column as a 1d array to the CountVectorizer\n",
    "ct = ColumnTransformer(\n",
    "    [(\"text_preprocess\", CountVectorizer(), \"documents\"),\n",
    "     (\"num_preprocess\", MinMaxScaler(), [\"width\"])])\n",
    "X_trans = ct.fit_transform(X)  "
   ]
  },
  {
   "cell_type": "code",
   "execution_count": 7,
   "id": "a61420d0-26f2-44d8-a9eb-cdc35a35963d",
   "metadata": {},
   "outputs": [
    {
     "data": {
      "text/plain": [
       "array([[1. , 0. , 0. , 1. , 0. , 0. , 0. , 0. , 0. , 0. ],\n",
       "       [0. , 1. , 0. , 0. , 0. , 1. , 1. , 0. , 0. , 0.5],\n",
       "       [0. , 0. , 1. , 0. , 1. , 0. , 0. , 1. , 1. , 1. ]])"
      ]
     },
     "execution_count": 7,
     "metadata": {},
     "output_type": "execute_result"
    }
   ],
   "source": [
    "X_trans"
   ]
  },
  {
   "cell_type": "code",
   "execution_count": 12,
   "id": "c40c7041-83c1-449d-ab3b-3bb758ba38eb",
   "metadata": {},
   "outputs": [],
   "source": [
    "X[ct.get_feature_names_out()] = X_trans"
   ]
  },
  {
   "cell_type": "code",
   "execution_count": 15,
   "id": "eaee205b-1e16-4a08-b804-e0a20802f173",
   "metadata": {},
   "outputs": [
    {
     "data": {
      "text/html": [
       "<div>\n",
       "<style scoped>\n",
       "    .dataframe tbody tr th:only-of-type {\n",
       "        vertical-align: middle;\n",
       "    }\n",
       "\n",
       "    .dataframe tbody tr th {\n",
       "        vertical-align: top;\n",
       "    }\n",
       "\n",
       "    .dataframe thead th {\n",
       "        text-align: right;\n",
       "    }\n",
       "</style>\n",
       "<table border=\"1\" class=\"dataframe\">\n",
       "  <thead>\n",
       "    <tr style=\"text-align: right;\">\n",
       "      <th></th>\n",
       "      <th>documents</th>\n",
       "      <th>width</th>\n",
       "      <th>text_preprocess__first</th>\n",
       "      <th>text_preprocess__here</th>\n",
       "      <th>text_preprocess__last</th>\n",
       "      <th>text_preprocess__one</th>\n",
       "      <th>text_preprocess__second</th>\n",
       "      <th>text_preprocess__the</th>\n",
       "      <th>text_preprocess__this</th>\n",
       "      <th>num_preprocess__width</th>\n",
       "    </tr>\n",
       "  </thead>\n",
       "  <tbody>\n",
       "    <tr>\n",
       "      <th>0</th>\n",
       "      <td>First item</td>\n",
       "      <td>3</td>\n",
       "      <td>1.0</td>\n",
       "      <td>0.0</td>\n",
       "      <td>0.0</td>\n",
       "      <td>0.0</td>\n",
       "      <td>0.0</td>\n",
       "      <td>0.0</td>\n",
       "      <td>0.0</td>\n",
       "      <td>0.0</td>\n",
       "    </tr>\n",
       "    <tr>\n",
       "      <th>1</th>\n",
       "      <td>second one here</td>\n",
       "      <td>4</td>\n",
       "      <td>0.0</td>\n",
       "      <td>1.0</td>\n",
       "      <td>0.0</td>\n",
       "      <td>1.0</td>\n",
       "      <td>1.0</td>\n",
       "      <td>0.0</td>\n",
       "      <td>0.0</td>\n",
       "      <td>0.5</td>\n",
       "    </tr>\n",
       "    <tr>\n",
       "      <th>2</th>\n",
       "      <td>Is this the last?</td>\n",
       "      <td>5</td>\n",
       "      <td>0.0</td>\n",
       "      <td>0.0</td>\n",
       "      <td>1.0</td>\n",
       "      <td>0.0</td>\n",
       "      <td>0.0</td>\n",
       "      <td>1.0</td>\n",
       "      <td>1.0</td>\n",
       "      <td>1.0</td>\n",
       "    </tr>\n",
       "  </tbody>\n",
       "</table>\n",
       "</div>"
      ],
      "text/plain": [
       "           documents  width  text_preprocess__first  text_preprocess__here  \\\n",
       "0         First item      3                     1.0                    0.0   \n",
       "1    second one here      4                     0.0                    1.0   \n",
       "2  Is this the last?      5                     0.0                    0.0   \n",
       "\n",
       "   text_preprocess__last  text_preprocess__one  text_preprocess__second  \\\n",
       "0                    0.0                   0.0                      0.0   \n",
       "1                    0.0                   1.0                      1.0   \n",
       "2                    1.0                   0.0                      0.0   \n",
       "\n",
       "   text_preprocess__the  text_preprocess__this  num_preprocess__width  \n",
       "0                   0.0                    0.0                    0.0  \n",
       "1                   0.0                    0.0                    0.5  \n",
       "2                   1.0                    1.0                    1.0  "
      ]
     },
     "execution_count": 15,
     "metadata": {},
     "output_type": "execute_result"
    }
   ],
   "source": [
    "X.drop(['text_preprocess__is', 'text_preprocess__item'], axis=1)"
   ]
  },
  {
   "cell_type": "code",
   "execution_count": null,
   "id": "daebb7b3-750e-4960-9511-d5284a7bbefa",
   "metadata": {},
   "outputs": [],
   "source": [
    "("
   ]
  }
 ],
 "metadata": {
  "kernelspec": {
   "display_name": "Python 3 (ipykernel)",
   "language": "python",
   "name": "python3"
  },
  "language_info": {
   "codemirror_mode": {
    "name": "ipython",
    "version": 3
   },
   "file_extension": ".py",
   "mimetype": "text/x-python",
   "name": "python",
   "nbconvert_exporter": "python",
   "pygments_lexer": "ipython3",
   "version": "3.12.2"
  }
 },
 "nbformat": 4,
 "nbformat_minor": 5
}
